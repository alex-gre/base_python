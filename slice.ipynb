{
 "cells": [
  {
   "cell_type": "code",
   "execution_count": 18,
   "metadata": {},
   "outputs": [
    {
     "name": "stdout",
     "output_type": "stream",
     "text": [
      "variable s =  hello python\n",
      "length s =  11\n",
      "s[-2:2] =  \n",
      "s[2:10:2] =  lopt\n",
      "s[:5:3] =  hl\n",
      "s[::2] =  hlopto\n",
      "s[::-1] =  nohtyp olleh\n",
      "s[::-2] =  nhy le\n",
      "s2 = 'H'+s[1:] =>  Hello python\n"
     ]
    }
   ],
   "source": [
    "s = \"hello python\"\n",
    "print('variable s = ',s)\n",
    "print('length s = ',len(s)-1)\n",
    "print('s[-2:2] = ',s[-2:2])\n",
    "#string[start:stop:step]\n",
    "print('s[2:10:2] = ',s[2:10:2])\n",
    "print('s[:5:3] = ',s[:5:3])\n",
    "print('s[::2] = ',s[::2])\n",
    "print('s[::-1] = ',s[::-1])\n",
    "print('s[::-2] = ',s[::-2])\n",
    "# строка относится к неизменяемому типу\n",
    "# если нужно изменить строку нужно завести новую переменную\n",
    "s2 = 'H'+s[1:]\n",
    "print(\"s2 = 'H'+s[1:] => \",s2) "
   ]
  }
 ],
 "metadata": {
  "kernelspec": {
   "display_name": "Python 3",
   "language": "python",
   "name": "python3"
  },
  "language_info": {
   "codemirror_mode": {
    "name": "ipython",
    "version": 3
   },
   "file_extension": ".py",
   "mimetype": "text/x-python",
   "name": "python",
   "nbconvert_exporter": "python",
   "pygments_lexer": "ipython3",
   "version": "3.8.1"
  }
 },
 "nbformat": 4,
 "nbformat_minor": 2
}
