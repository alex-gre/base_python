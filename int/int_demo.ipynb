{
 "cells": [
  {
   "cell_type": "code",
   "execution_count": null,
   "metadata": {},
   "outputs": [],
   "source": []
  },
  {
   "cell_type": "markdown",
   "metadata": {},
   "source": []
  },
  {
   "cell_type": "code",
   "execution_count": 11,
   "metadata": {},
   "outputs": [
    {
     "name": "stdout",
     "output_type": "stream",
     "text": [
      "ceil 4.5 => 5\n",
      "ceil -4.5 => -4\n",
      "trunc 4.5 => 4\n",
      "trunc -4.5 => -4\n",
      "floor 4.5 => 4\n",
      "floor -4.5 => -5\n"
     ]
    }
   ],
   "source": [
    "import math\n",
    "\n",
    "print(f\"ceil 4.5 => {math.ceil(4.5)}\")\n",
    "print(f\"ceil -4.5 => {math.ceil(-4.5)}\")\n",
    "print(f\"trunc 4.5 => {math.trunc(4.5)}\")\n",
    "print(f\"trunc -4.5 => {math.trunc(-4.5)}\")\n",
    "print(f\"floor 4.5 => {math.floor(4.5)}\")\n",
    "print(f\"floor -4.5 => {math.floor(-4.5)}\")\n",
    "\n",
    "\n"
   ]
  },
  {
   "cell_type": "code",
   "execution_count": null,
   "metadata": {},
   "outputs": [],
   "source": []
  },
  {
   "cell_type": "code",
   "execution_count": 12,
   "metadata": {},
   "outputs": [
    {
     "name": "stdout",
     "output_type": "stream",
     "text": [
      "hex 10 => 0xa\n",
      "bin 10 => 0b1010\n",
      "oct 10 => 0o12\n"
     ]
    }
   ],
   "source": [
    "print(f\"hex 10 => {hex(10)}\")\n",
    "print(f\"bin 10 => {bin(10)}\")\n",
    "print(f\"oct 10 => {oct(10)}\")\n"
   ]
  },
  {
   "cell_type": "code",
   "execution_count": null,
   "metadata": {},
   "outputs": [
    {
     "name": "stdout",
     "output_type": "stream",
     "text": [
      "True\n"
     ]
    }
   ],
   "source": [
    "from numbers import Complex\n",
    "\n",
    "isinstance(1, Complex)\n",
    "issubclass(int, Complex)\n",
    "int.__bases__"
   ]
  },
  {
   "cell_type": "code",
   "execution_count": 8,
   "metadata": {},
   "outputs": [
    {
     "data": {
      "text/plain": [
       "(object,)"
      ]
     },
     "execution_count": 8,
     "metadata": {},
     "output_type": "execute_result"
    }
   ],
   "source": [
    "from numbers import Integral\n",
    "\n",
    "issubclass(int, Integral)\n",
    "int.__bases__"
   ]
  },
  {
   "cell_type": "code",
   "execution_count": 9,
   "metadata": {},
   "outputs": [
    {
     "data": {
      "text/plain": [
       "True"
      ]
     },
     "execution_count": 9,
     "metadata": {},
     "output_type": "execute_result"
    }
   ],
   "source": [
    "0xa == 0b1010 == 0o12"
   ]
  },
  {
   "cell_type": "code",
   "execution_count": 10,
   "metadata": {},
   "outputs": [
    {
     "name": "stdout",
     "output_type": "stream",
     "text": [
      "a\n",
      "0b0\n"
     ]
    }
   ],
   "source": [
    "class ZeroItem:\n",
    "\n",
    "    def __index__(self) -> int:\n",
    "        return 0\n",
    "    \n",
    "letters = ['a','b','c']\n",
    "\n",
    "print(letters[ZeroItem()])\n",
    "print(bin(ZeroItem()))\n",
    "\n"
   ]
  }
 ],
 "metadata": {
  "kernelspec": {
   "display_name": "Python 3",
   "language": "python",
   "name": "python3"
  },
  "language_info": {
   "codemirror_mode": {
    "name": "ipython",
    "version": 3
   },
   "file_extension": ".py",
   "mimetype": "text/x-python",
   "name": "python",
   "nbconvert_exporter": "python",
   "pygments_lexer": "ipython3",
   "version": "3.8.1"
  }
 },
 "nbformat": 4,
 "nbformat_minor": 2
}
