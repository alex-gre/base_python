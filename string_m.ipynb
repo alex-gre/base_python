{
 "cells": [
  {
   "cell_type": "code",
   "execution_count": 12,
   "metadata": {},
   "outputs": [
    {
     "name": "stdout",
     "output_type": "stream",
     "text": [
      "s3 =  hello python\n",
      "list(s3) =  ['h', 'e', 'l', 'l', 'o', ' ', 'p', 'y', 't', 'h', 'o', 'n']\n",
      "set(s3) =  {'l', 'y', 'e', 'n', ' ', 't', 'h', 'o', 'p'}\n",
      "l = list(s3) =>  ['h', 'e', 'l', 'l', 'o', ' ', 'p', 'y', 't', 'h', 'o', 'n']\n",
      "s = set(s3) =>  {'l', 'y', 'e', 'n', ' ', 't', 'h', 'o', 'p'}\n",
      "None\n"
     ]
    }
   ],
   "source": [
    "s0 = \" \"\n",
    "s1 = \"hello\"\n",
    "s2 = \"python\"\n",
    "s3 = s1 + s0 + s2\n",
    "print('s3 = ',s3)\n",
    "\n",
    "# method list\n",
    "print('list(s3) = ',list(s3))\n",
    "# method set , set {множества} уникальные неповторяемые значения\n",
    "print('set(s3) = ',set(s3))\n",
    "l = list(s3) \n",
    "s = set(s3)\n",
    "\n",
    "print('l = list(s3) => ',l)\n",
    "print('s = set(s3) => ',s)\n",
    "\n",
    "\n"
   ]
  }
 ],
 "metadata": {
  "kernelspec": {
   "display_name": "Python 3",
   "language": "python",
   "name": "python3"
  },
  "language_info": {
   "codemirror_mode": {
    "name": "ipython",
    "version": 3
   },
   "file_extension": ".py",
   "mimetype": "text/x-python",
   "name": "python",
   "nbconvert_exporter": "python",
   "pygments_lexer": "ipython3",
   "version": "3.8.1"
  }
 },
 "nbformat": 4,
 "nbformat_minor": 2
}
